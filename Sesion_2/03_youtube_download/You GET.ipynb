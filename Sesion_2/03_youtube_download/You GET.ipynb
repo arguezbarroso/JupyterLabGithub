{
 "cells": [
  {
   "cell_type": "code",
   "execution_count": 1,
   "id": "labeled-adventure",
   "metadata": {},
   "outputs": [
    {
     "ename": "SyntaxError",
     "evalue": "invalid syntax (<ipython-input-1-a360789312f7>, line 1)",
     "output_type": "error",
     "traceback": [
      "\u001b[1;36m  File \u001b[1;32m\"<ipython-input-1-a360789312f7>\"\u001b[1;36m, line \u001b[1;32m1\u001b[0m\n\u001b[1;33m    https://you-get.org/#supported-sites\u001b[0m\n\u001b[1;37m          ^\u001b[0m\n\u001b[1;31mSyntaxError\u001b[0m\u001b[1;31m:\u001b[0m invalid syntax\n"
     ]
    }
   ],
   "source": [
    "https://you-get.org/#supported-sites\n",
    "    \n",
    "    "
   ]
  },
  {
   "cell_type": "code",
   "execution_count": 8,
   "id": "comfortable-heath",
   "metadata": {},
   "outputs": [
    {
     "name": "stdout",
     "output_type": "stream",
     "text": [
      "Requirement already satisfied: you-get in d:\\curso_python\\wpy64-3920\\python-3.9.2.amd64\\lib\\site-packages (0.4.1650)\n"
     ]
    }
   ],
   "source": [
    "!pip3 install you-get"
   ]
  },
  {
   "cell_type": "code",
   "execution_count": 7,
   "id": "informed-arctic",
   "metadata": {},
   "outputs": [
    {
     "name": "stdout",
     "output_type": "stream",
     "text": [
      "Requirement already satisfied: pip in d:\\curso_python\\wpy64-3920\\python-3.9.2.amd64\\lib\\site-packages (22.2.2)\n",
      "Collecting pip\n",
      "  Using cached pip-23.1.2-py3-none-any.whl (2.1 MB)\n",
      "Installing collected packages: pip\n",
      "  Attempting uninstall: pip\n",
      "    Found existing installation: pip 22.2.2\n",
      "    Uninstalling pip-22.2.2:\n",
      "      Successfully uninstalled pip-22.2.2\n",
      "Successfully installed pip-23.1.2\n"
     ]
    }
   ],
   "source": [
    "!python.exe -m pip install --upgrade pip"
   ]
  },
  {
   "cell_type": "code",
   "execution_count": 9,
   "id": "billion-personality",
   "metadata": {},
   "outputs": [
    {
     "name": "stdout",
     "output_type": "stream",
     "text": [
      "Requirement already satisfied: you-get in d:\\curso_python\\wpy64-3920\\python-3.9.2.amd64\\lib\\site-packages (0.4.1650)\n"
     ]
    }
   ],
   "source": [
    "!pip3 install --upgrade you-get"
   ]
  },
  {
   "cell_type": "code",
   "execution_count": 10,
   "id": "parliamentary-botswana",
   "metadata": {},
   "outputs": [
    {
     "ename": "SyntaxError",
     "evalue": "invalid syntax (<ipython-input-10-d806e17f741b>, line 1)",
     "output_type": "error",
     "traceback": [
      "\u001b[1;36m  File \u001b[1;32m\"<ipython-input-10-d806e17f741b>\"\u001b[1;36m, line \u001b[1;32m1\u001b[0m\n\u001b[1;33m    you-get -o ~/Videos -O zoo.webm 'https://www.youtube.com/watch?v=jNQXAC9IVRw'\u001b[0m\n\u001b[1;37m               ^\u001b[0m\n\u001b[1;31mSyntaxError\u001b[0m\u001b[1;31m:\u001b[0m invalid syntax\n"
     ]
    }
   ],
   "source": [
    "you-get -o ~/Videos -O zoo.webm 'https://www.youtube.com/watch?v=jNQXAC9IVRw'"
   ]
  },
  {
   "cell_type": "code",
   "execution_count": 11,
   "id": "anticipated-scheduling",
   "metadata": {},
   "outputs": [
    {
     "name": "stdout",
     "output_type": "stream",
     "text": [
      "site:                YouTube\n",
      "title:               La Muerte no es el Final Coro CantarÃ© con letra\n",
      "streams:             # Available quality and codecs\n",
      "    [ DASH ] ____________________________________\n",
      "    - itag:          \u001b[7m137\u001b[0m\n",
      "      container:     mp4\n",
      "      quality:       1920x1080 (1080p)\n",
      "      size:          80.2 MiB (84052123 bytes)\n",
      "    # download-with: \u001b[4myou-get --itag=137 [URL]\u001b[0m\n",
      "\n",
      "    - itag:          \u001b[7m136\u001b[0m\n",
      "      container:     mp4\n",
      "      quality:       1280x720 (720p)\n",
      "      size:          47.8 MiB (50127567 bytes)\n",
      "    # download-with: \u001b[4myou-get --itag=136 [URL]\u001b[0m\n",
      "\n",
      "    - itag:          \u001b[7m248\u001b[0m\n",
      "      container:     webm\n",
      "      quality:       1920x1080 (1080p)\n",
      "      size:          37.5 MiB (39274673 bytes)\n",
      "    # download-with: \u001b[4myou-get --itag=248 [URL]\u001b[0m\n",
      "\n",
      "    - itag:          \u001b[7m135\u001b[0m\n",
      "      container:     mp4\n",
      "      quality:       854x480 (480p)\n",
      "      size:          27.4 MiB (28766908 bytes)\n",
      "    # download-with: \u001b[4myou-get --itag=135 [URL]\u001b[0m\n",
      "\n",
      "    - itag:          \u001b[7m247\u001b[0m\n",
      "      container:     webm\n",
      "      quality:       1280x720 (720p)\n",
      "      size:          24.3 MiB (25522207 bytes)\n",
      "    # download-with: \u001b[4myou-get --itag=247 [URL]\u001b[0m\n",
      "\n",
      "    - itag:          \u001b[7m244\u001b[0m\n",
      "      container:     webm\n",
      "      quality:       854x480 (480p)\n",
      "      size:          16.2 MiB (16959528 bytes)\n",
      "    # download-with: \u001b[4myou-get --itag=244 [URL]\u001b[0m\n",
      "\n",
      "    - itag:          \u001b[7m134\u001b[0m\n",
      "      container:     mp4\n",
      "      quality:       640x360 (360p)\n",
      "      size:          15.4 MiB (16189502 bytes)\n",
      "    # download-with: \u001b[4myou-get --itag=134 [URL]\u001b[0m\n",
      "\n",
      "    - itag:          \u001b[7m243\u001b[0m\n",
      "      container:     webm\n",
      "      quality:       640x360 (360p)\n",
      "      size:          11.6 MiB (12159783 bytes)\n",
      "    # download-with: \u001b[4myou-get --itag=243 [URL]\u001b[0m\n",
      "\n",
      "    - itag:          \u001b[7m133\u001b[0m\n",
      "      container:     mp4\n",
      "      quality:       426x240 (240p)\n",
      "      size:          9.7 MiB (10184440 bytes)\n",
      "    # download-with: \u001b[4myou-get --itag=133 [URL]\u001b[0m\n",
      "\n",
      "    - itag:          \u001b[7m242\u001b[0m\n",
      "      container:     webm\n",
      "      quality:       426x240 (240p)\n",
      "      size:          8.3 MiB (8741536 bytes)\n",
      "    # download-with: \u001b[4myou-get --itag=242 [URL]\u001b[0m\n",
      "\n",
      "    - itag:          \u001b[7m160\u001b[0m\n",
      "      container:     mp4\n",
      "      quality:       256x144 (144p)\n",
      "      size:          6.3 MiB (6592838 bytes)\n",
      "    # download-with: \u001b[4myou-get --itag=160 [URL]\u001b[0m\n",
      "\n",
      "    - itag:          \u001b[7m278\u001b[0m\n",
      "      container:     webm\n",
      "      quality:       256x144 (144p)\n",
      "      size:          6.1 MiB (6412351 bytes)\n",
      "    # download-with: \u001b[4myou-get --itag=278 [URL]\u001b[0m\n",
      "\n",
      "    [ DEFAULT ] _________________________________\n",
      "    - itag:          \u001b[7m18\u001b[0m\n",
      "      container:     mp4\n",
      "      quality:       medium\n",
      "      size:          15.4 MiB (16161730 bytes)\n",
      "    # download-with: \u001b[4myou-get --itag=18 [URL]\u001b[0m\n",
      "\n"
     ]
    }
   ],
   "source": [
    "#Vemos la información del fichero\n",
    "\n",
    "!you-get -i \"https://www.youtube.com/watch?v=hp9kUql0qcU\""
   ]
  },
  {
   "cell_type": "code",
   "execution_count": null,
   "id": "speaking-discretion",
   "metadata": {},
   "outputs": [],
   "source": [
    "#Descargamos fichero\n",
    "\n",
    "!you-get \"https://www.youtube.com/watch?v=hp9kUql0qcU\""
   ]
  },
  {
   "cell_type": "code",
   "execution_count": null,
   "id": "based-entity",
   "metadata": {},
   "outputs": [],
   "source": []
  }
 ],
 "metadata": {
  "kernelspec": {
   "display_name": "Python 3",
   "language": "python",
   "name": "python3"
  },
  "language_info": {
   "codemirror_mode": {
    "name": "ipython",
    "version": 3
   },
   "file_extension": ".py",
   "mimetype": "text/x-python",
   "name": "python",
   "nbconvert_exporter": "python",
   "pygments_lexer": "ipython3",
   "version": "3.9.2"
  }
 },
 "nbformat": 4,
 "nbformat_minor": 5
}
