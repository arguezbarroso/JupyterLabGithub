{
 "cells": [
  {
   "cell_type": "code",
   "execution_count": 1,
   "id": "c4c44297-8062-4336-a59e-794ad7b0b4af",
   "metadata": {},
   "outputs": [
    {
     "ename": "NameError",
     "evalue": "name 'QApplication' is not defined",
     "output_type": "error",
     "traceback": [
      "\u001b[1;31m---------------------------------------------------------------------------\u001b[0m",
      "\u001b[1;31mNameError\u001b[0m                                 Traceback (most recent call last)",
      "\u001b[1;32m<ipython-input-1-635aee75be3f>\u001b[0m in \u001b[0;36m<module>\u001b[1;34m\u001b[0m\n\u001b[0;32m     26\u001b[0m \u001b[1;31m# recognizes is given in the QApplication’s initializer’s documentation.\u001b[0m\u001b[1;33m\u001b[0m\u001b[1;33m\u001b[0m\u001b[1;33m\u001b[0m\u001b[0m\n\u001b[0;32m     27\u001b[0m \u001b[1;33m\u001b[0m\u001b[0m\n\u001b[1;32m---> 28\u001b[1;33m \u001b[0mapp\u001b[0m \u001b[1;33m=\u001b[0m \u001b[0mQApplication\u001b[0m\u001b[1;33m(\u001b[0m\u001b[0msys\u001b[0m\u001b[1;33m.\u001b[0m\u001b[0margv\u001b[0m\u001b[1;33m)\u001b[0m\u001b[1;33m\u001b[0m\u001b[1;33m\u001b[0m\u001b[0m\n\u001b[0m\u001b[0;32m     29\u001b[0m \u001b[1;32mtry\u001b[0m\u001b[1;33m:\u001b[0m\u001b[1;33m\u001b[0m\u001b[1;33m\u001b[0m\u001b[0m\n\u001b[0;32m     30\u001b[0m     \u001b[0mdue\u001b[0m \u001b[1;33m=\u001b[0m \u001b[0mQTime\u001b[0m\u001b[1;33m.\u001b[0m\u001b[0mcurrentTime\u001b[0m\u001b[1;33m(\u001b[0m\u001b[1;33m)\u001b[0m\u001b[1;33m\u001b[0m\u001b[1;33m\u001b[0m\u001b[0m\n",
      "\u001b[1;31mNameError\u001b[0m: name 'QApplication' is not defined"
     ]
    }
   ],
   "source": [
    "\n",
    "#We import the sys module because we want to access the command-line arguments it holds in \n",
    "#  the sys.argv list.\n",
    "import sys\n",
    "\n",
    "#The time module is imported because we need its sleep() function\n",
    "import time\n",
    "\n",
    "\n",
    "#We need the PyQt modules for the GUI and for the QTime class.\n",
    "# Importamos usando nuestra cabecera de métodos y objetos para QT5\n",
    "from PyQt5.QtWidgets import (\n",
    "    QMainWindow, QApplication,\n",
    "    QLabel, QToolBar, QAction, QStatusBar\n",
    ")\n",
    "from PyQt5.QtGui import QIcon\n",
    "from PyQt5.QtCore import Qt\n",
    "\n",
    "\n",
    "\n",
    "#Every PyQt GUI application must have a QApplication object.\n",
    "# This object provides access to global-like information such as the application’s directory,\n",
    "# the screen size (and which screen the application is on, in a multihead system), and so on.\n",
    "# This object also provides the event loop.\n",
    "\n",
    "#When we create a QApplication object we pass it the command-line arguments; this is because\n",
    "# PyQt recognizes some command-line arguments of its own, such as -geometry and -style, \n",
    "# so we ought to give it the chance to read them.\n",
    "# If QApplication recognizes any of the arguments, it acts on them, and removes\n",
    "# them from the list it was given. The list of arguments that QApplication\n",
    "# recognizes is given in the QApplication’s initializer’s documentation.\n",
    "\n",
    "app = QApplication(sys.argv)\n",
    "try:\n",
    "    due = QTime.currentTime()\n",
    "    message = \"Alert!\"\n",
    "    if len(sys.argv) < 2:\n",
    "        raise \n",
    "# e application requires a time, so we set the due variable to the time right now.        \n",
    "    hours, mins = sys.argv[1].split(\":\")\n",
    "    due = QTime(int(hours), int(mins))\n",
    "    if not due.isValid():\n",
    "        raise ValueError\n",
    "    if len(sys.argv) > 2:\n",
    "        message = \" \".join(sys.argv[2:])\n",
    "# We also provide a default message. If the user has not given at least one command-line argument\n",
    "# (a time), we raise a ValueError exception. This will result in the time being now and the \n",
    "#  message being the “usage” error message.        \n",
    "except ValueError:\n",
    "    message = \"Usage: alert.pyw HH:MM [optional message]\" # 24hr clock"
   ]
  },
  {
   "cell_type": "code",
   "execution_count": null,
   "id": "0926ae33-ee9f-4449-8a20-3233f9263600",
   "metadata": {},
   "outputs": [],
   "source": []
  }
 ],
 "metadata": {
  "kernelspec": {
   "display_name": "Python 3",
   "language": "python",
   "name": "python3"
  },
  "language_info": {
   "codemirror_mode": {
    "name": "ipython",
    "version": 3
   },
   "file_extension": ".py",
   "mimetype": "text/x-python",
   "name": "python",
   "nbconvert_exporter": "python",
   "pygments_lexer": "ipython3",
   "version": "3.9.2"
  }
 },
 "nbformat": 4,
 "nbformat_minor": 5
}
