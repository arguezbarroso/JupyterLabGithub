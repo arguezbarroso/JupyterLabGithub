{
 "cells": [
  {
   "cell_type": "code",
   "execution_count": 1,
   "id": "c4c44297-8062-4336-a59e-794ad7b0b4af",
   "metadata": {},
   "outputs": [
    {
     "name": "stdout",
     "output_type": "stream",
     "text": [
      "PyQt5.QtCore.QTime(23, 58, 8, 578)\n",
      "Arrancamos el QTimer de 1 minuto.\n"
     ]
    },
    {
     "data": {
      "text/plain": [
       "0"
      ]
     },
     "execution_count": 1,
     "metadata": {},
     "output_type": "execute_result"
    }
   ],
   "source": [
    "#We import the sys module because we want to access the command-line arguments it holds in \n",
    "#  the sys.argv list.\n",
    "import sys\n",
    "\n",
    "#The time module is imported because we need its sleep() function\n",
    "import time\n",
    "\n",
    "\n",
    "#We need the PyQt modules for the GUI and for the QTime class.\n",
    "# Importamos usando nuestra cabecera de métodos y objetos para QT5\n",
    "from PyQt5.QtWidgets import (\n",
    "    QMainWindow, QApplication,\n",
    "    QLabel, QToolBar, QAction, QStatusBar\n",
    ")\n",
    "from PyQt5.QtGui import QIcon\n",
    "from PyQt5.QtCore import Qt, QTime, QTimer\n",
    "\n",
    "\n",
    "\n",
    "#Every PyQt GUI application must have a QApplication object.\n",
    "# This object provides access to global-like information such as the application’s directory,\n",
    "# the screen size (and which screen the application is on, in a multihead system), and so on.\n",
    "# This object also provides the event loop.\n",
    "\n",
    "#When we create a QApplication object we pass it the command-line arguments; this is because\n",
    "# PyQt recognizes some command-line arguments of its own, such as -geometry and -style, \n",
    "# so we ought to give it the chance to read them.\n",
    "# If QApplication recognizes any of the arguments, it acts on them, and removes\n",
    "# them from the list it was given. The list of arguments that QApplication\n",
    "# recognizes is given in the QApplication’s initializer’s documentation.\n",
    "\n",
    "app = QApplication(sys.argv)\n",
    "try:\n",
    "    due = QTime.currentTime()\n",
    "    print(due)\n",
    "    message = \"Alert!\"\n",
    "    if len(sys.argv) < 2:\n",
    "        print(\"Atención: faltan argumentos de entrada!\")\n",
    "        raise ValueError\n",
    "# e application requires a time, so we set the due variable to the time right now.        \n",
    "    hours, mins = sys.argv[1].split(\":\")\n",
    "\n",
    "#Although Python provides its own date and time classes, the PyQt date and time classes are often more convenient\n",
    "# (and in some respects more powerful), so we tend to prefer them.    \n",
    "    due = QTime(int(hours), int(mins))\n",
    "\n",
    "#The hours or minutes are not a valid number, a ValueError will be raised by int(), and if the hours or\n",
    "# minutes are out of range, due will be an invalid QTime, and we raise a ValueError ourselves.    \n",
    "    if not due.isValid():\n",
    "        print(\"Atención: parece que no has introducido una HH:MM válida!\")\n",
    "        raise ValueError\n",
    "\n",
    "#If the time is valid,we set the message to be the space-separated concatenation of the other command-line arguments\n",
    "# if there are any; otherwise,we leave it as the default “Alert!” that we set at the beginning.\n",
    "    if len(sys.argv) > 2:\n",
    "        message = \" \".join(sys.argv[2:])\n",
    "# We also provide a default message. If the user has not given at least one command-line argument\n",
    "# (a time), we raise a ValueError exception. This will result in the time being now and the \n",
    "#  message being the “usage” error message.        \n",
    "except ValueError:\n",
    "    message = \"Usage: alert.pyw HH:MM [optional message]\" # 24hr clock\n",
    "\n",
    "\n",
    "#We loop continuously, comparing the current time with the target time. The loop will terminate if the current time is later \n",
    "# than the target time.We could have simply put a pass statement inside the loop, but if we did that Python\n",
    "# would loop as quickly as possible, gobbling up processor cycles for no good reason. The time.sleep() command tells\n",
    "# Python to suspend processing for the specified number of seconds, 20 in this case. This gives other programs\n",
    "# more opportunity to run and makes sense since we don’t want to actually do anything while we wait for the due time to arrive.\n",
    "while QTime.currentTime() < due:\n",
    "    time.sleep(20) # 20 seconds\n",
    "    print(\"Esperamos que llegue la hora de la alarma\")\n",
    "\n",
    "#A GUI application needs widgets, and in this case we need a label to show the message. A QLabel can acceptHTMLtext, so we\n",
    "#  give it an HTMLstring that tells it to display bold red text of size 72 points\n",
    "label = QLabel(\"<font color=red size=72><b>\" + message + \"</b></font>\")\n",
    "\n",
    "#In PyQt, any widget can be used as a top-level window, even a button or a label.\n",
    "# When a widget is used like this, PyQt automatically gives it a title bar. We don’t want a title bar for this application, so we set the label’s window flags to those used for splash screens since they have no title bar. Once we have set up the label that will be our window, we call show() on it. At this point, the label window is not shown! The call to show() merely schedules a “paint event”, that is, it adds a new event to the QApplication object’s event queue that is a request to paint the specified widget.\n",
    "label.setWindowFlags(Qt.SplashScreen)\n",
    "label.show()\n",
    "\n",
    "\n",
    "# Next, we set up a single-shot timer. Whereas the Python library’s time.sleep() function takes a number of seconds, the QTimer.singleShot() function takes a number of milliseconds.We give the singleShot() method two arguments: how long until it should time out (one minute in this case), and a function or method for it to call when it times out.\n",
    "print(\"Arrancamos el QTimer de 1 minuto.\")\n",
    "QTimer.singleShot(60000, app.quit) # 1 minute= 60E3 ms = 60 seg = 1 min\n",
    "app.exec_()"
   ]
  },
  {
   "cell_type": "code",
   "execution_count": null,
   "id": "0926ae33-ee9f-4449-8a20-3233f9263600",
   "metadata": {},
   "outputs": [],
   "source": []
  }
 ],
 "metadata": {
  "kernelspec": {
   "display_name": "Python 3",
   "language": "python",
   "name": "python3"
  },
  "language_info": {
   "codemirror_mode": {
    "name": "ipython",
    "version": 3
   },
   "file_extension": ".py",
   "mimetype": "text/x-python",
   "name": "python",
   "nbconvert_exporter": "python",
   "pygments_lexer": "ipython3",
   "version": "3.9.2"
  }
 },
 "nbformat": 4,
 "nbformat_minor": 5
}
