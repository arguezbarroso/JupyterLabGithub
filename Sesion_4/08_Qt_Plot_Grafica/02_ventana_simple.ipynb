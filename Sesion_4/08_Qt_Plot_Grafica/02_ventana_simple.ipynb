{
 "cells": [
  {
   "cell_type": "code",
   "execution_count": 1,
   "id": "funky-center",
   "metadata": {},
   "outputs": [
    {
     "data": {
      "text/plain": [
       "0"
      ]
     },
     "execution_count": 1,
     "metadata": {},
     "output_type": "execute_result"
    }
   ],
   "source": [
    "import sys\n",
    "from PyQt5.QtWidgets import (\n",
    "    QMainWindow, QApplication,\n",
    "    QLabel, QToolBar, QAction, QStatusBar\n",
    ")\n",
    "from PyQt5.QtGui import QIcon\n",
    "from PyQt5.QtCore import Qt\n",
    "\n",
    "class MainWindow(QMainWindow):\n",
    "\n",
    "    def __init__(self):\n",
    "        super(MainWindow, self).__init__()\n",
    "\n",
    "        self.setWindowTitle(\"My Awesome App\")\n",
    "\n",
    "\n",
    "app = QApplication(sys.argv)\n",
    "w = MainWindow()\n",
    "w.show()\n",
    "app.exec()"
   ]
  },
  {
   "attachments": {
    "6cb1beeb-8724-4476-9660-3fe67a8765ff.png": {
     "image/png": "[encoded data removed]"
    }
   },
   "cell_type": "markdown",
   "id": "genetic-reliance",
   "metadata": {},
   "source": [
    "![image.png](attachment:6cb1beeb-8724-4476-9660-3fe67a8765ff.png)"
   ]
  },
  {
   "cell_type": "code",
   "execution_count": 1,
   "id": "north-pharmaceutical",
   "metadata": {},
   "outputs": [
    {
     "data": {
      "text/plain": [
       "0"
      ]
     },
     "execution_count": 1,
     "metadata": {},
     "output_type": "execute_result"
    }
   ],
   "source": [
    "#Añadimos una Toolbar\n",
    "\n",
    "import sys\n",
    "from PyQt5.QtWidgets import (\n",
    "    QMainWindow, QApplication,\n",
    "    QLabel, QToolBar, QAction, QStatusBar\n",
    ")\n",
    "from PyQt5.QtGui import QIcon\n",
    "from PyQt5.QtCore import Qt\n",
    "\n",
    "class MainWindow(QMainWindow):\n",
    "\n",
    "    def __init__(self):\n",
    "        super(MainWindow, self).__init__()\n",
    "\n",
    "        self.setWindowTitle(\"My Awesome App\")\n",
    "\n",
    "        label = QLabel(\"Hello!\")\n",
    "        label.setAlignment(Qt.AlignCenter)\n",
    "\n",
    "        self.setCentralWidget(label)\n",
    "\n",
    "        toolbar = QToolBar(\"My main toolbar\")\n",
    "        self.addToolBar(toolbar)\n",
    "\n",
    "\n",
    "    def onMyToolBarButtonClick(self, s):\n",
    "        print(\"click\", s)\n",
    "\n",
    "app = QApplication(sys.argv)\n",
    "w = MainWindow()\n",
    "w.show()\n",
    "app.exec()"
   ]
  },
  {
   "attachments": {
    "2bad9fc9-4942-4d68-88d7-68c2fa2cb1b8.png": {
     "image/png": "[encoded data removed]"
    }
   },
   "cell_type": "markdown",
   "id": "broke-jewelry",
   "metadata": {},
   "source": [
    "### Run it! \n",
    "You'll see a thin grey bar at the top of the window. This is your toolbar. Right click and click the name to toggle it off.\n",
    "\n",
    "![image.png](attachment:2bad9fc9-4942-4d68-88d7-68c2fa2cb1b8.png)\n"
   ]
  },
  {
   "cell_type": "code",
   "execution_count": 1,
   "id": "liberal-constitution",
   "metadata": {},
   "outputs": [
    {
     "name": "stdout",
     "output_type": "stream",
     "text": [
      "click False\n",
      "click False\n",
      "click False\n"
     ]
    },
    {
     "data": {
      "text/plain": [
       "0"
      ]
     },
     "execution_count": 1,
     "metadata": {},
     "output_type": "execute_result"
    }
   ],
   "source": [
    "#Añadimos una Toolbar\n",
    "\n",
    "import sys\n",
    "from PyQt5.QtWidgets import (\n",
    "    QMainWindow, QApplication,\n",
    "    QLabel, QToolBar, QAction, QStatusBar\n",
    ")\n",
    "from PyQt5.QtGui import QIcon\n",
    "from PyQt5.QtCore import Qt\n",
    "\n",
    "class MainWindow(QMainWindow):\n",
    "\n",
    "    def __init__(self):\n",
    "        super(MainWindow, self).__init__()\n",
    "\n",
    "        self.setWindowTitle(\"My Awesome App\")\n",
    "\n",
    "        label = QLabel(\"Hello!\")\n",
    "        label.setAlignment(Qt.AlignCenter)\n",
    "\n",
    "        self.setCentralWidget(label)\n",
    "\n",
    "        toolbar = QToolBar(\"My main toolbar\")\n",
    "        self.addToolBar(toolbar)\n",
    "\n",
    "        button_action = QAction(\"Your button\", self)\n",
    "        button_action.setStatusTip(\"This is your button\")\n",
    "        button_action.triggered.connect(self.onMyToolBarButtonClick)\n",
    "        toolbar.addAction(button_action)\n",
    "\n",
    "    def onMyToolBarButtonClick(self, s):\n",
    "        print(\"click\", s)\n",
    "        \n",
    "app = QApplication(sys.argv)\n",
    "w = MainWindow()\n",
    "w.show()\n",
    "app.exec()"
   ]
  },
  {
   "attachments": {
    "b6215485-0d3f-40b1-927d-0f4e24b8e2d6.png": {
     "image/png": "[encoded data removed]"
    }
   },
   "cell_type": "markdown",
   "id": "accepted-import",
   "metadata": {},
   "source": [
    "![image.png](attachment:b6215485-0d3f-40b1-927d-0f4e24b8e2d6.png)"
   ]
  },
  {
   "cell_type": "code",
   "execution_count": 1,
   "id": "chemical-significance",
   "metadata": {},
   "outputs": [
    {
     "data": {
      "text/plain": [
       "0"
      ]
     },
     "execution_count": 1,
     "metadata": {},
     "output_type": "execute_result"
    }
   ],
   "source": [
    "#Añadimos una Toolbar\n",
    "\n",
    "import sys\n",
    "from PyQt5.QtWidgets import (\n",
    "    QMainWindow, QApplication,\n",
    "    QLabel, QToolBar, QAction, QStatusBar\n",
    ")\n",
    "from PyQt5.QtGui import QIcon\n",
    "from PyQt5.QtCore import Qt\n",
    "\n",
    "class MainWindow(QMainWindow):\n",
    "\n",
    "    def __init__(self):\n",
    "        super(MainWindow, self).__init__()\n",
    "\n",
    "        self.setWindowTitle(\"My Awesome App\")\n",
    "\n",
    "        label = QLabel(\"Hello!\")\n",
    "        label.setAlignment(Qt.AlignCenter)\n",
    "\n",
    "        self.setCentralWidget(label)\n",
    "\n",
    "        toolbar = QToolBar(\"My main toolbar\")\n",
    "        self.addToolBar(toolbar)\n",
    "\n",
    "        button_action = QAction(\"Your button\", self)\n",
    "        button_action.setStatusTip(\"This is your button\")\n",
    "        button_action.triggered.connect(self.onMyToolBarButtonClick)\n",
    "        toolbar.addAction(button_action)\n",
    "\n",
    "        self.setStatusBar(QStatusBar(self))\n",
    "\n",
    "\n",
    "    def onMyToolBarButtonClick(self, s):\n",
    "        print(\"click\", s)\n",
    "\n",
    "\n",
    "app = QApplication(sys.argv)\n",
    "w = MainWindow()\n",
    "w.show()\n",
    "app.exec()"
   ]
  },
  {
   "attachments": {
    "4715fef6-1001-43ae-b820-d923b57b0406.png": {
     "image/png": "[encoded data removed]"
    }
   },
   "cell_type": "markdown",
   "id": "raised-marina",
   "metadata": {},
   "source": [
    "![image.png](attachment:4715fef6-1001-43ae-b820-d923b57b0406.png)"
   ]
  },
  {
   "cell_type": "code",
   "execution_count": 1,
   "id": "light-orientation",
   "metadata": {},
   "outputs": [
    {
     "name": "stdout",
     "output_type": "stream",
     "text": [
      "click True\n",
      "click False\n",
      "click True\n"
     ]
    },
    {
     "data": {
      "text/plain": [
       "0"
      ]
     },
     "execution_count": 1,
     "metadata": {},
     "output_type": "execute_result"
    }
   ],
   "source": [
    "#Añadimos una Toolbar\n",
    "\n",
    "import sys\n",
    "from PyQt5.QtWidgets import (\n",
    "    QMainWindow, QApplication,\n",
    "    QLabel, QToolBar, QAction, QStatusBar\n",
    ")\n",
    "from PyQt5.QtGui import QIcon\n",
    "from PyQt5.QtCore import Qt\n",
    "\n",
    "class MainWindow(QMainWindow):\n",
    "\n",
    "    def __init__(self):\n",
    "        super(MainWindow, self).__init__()\n",
    "\n",
    "        self.setWindowTitle(\"My Awesome App\")\n",
    "\n",
    "        label = QLabel(\"Hello!\")\n",
    "        label.setAlignment(Qt.AlignCenter)\n",
    "\n",
    "        self.setCentralWidget(label)\n",
    "\n",
    "        toolbar = QToolBar(\"My main toolbar\")\n",
    "        self.addToolBar(toolbar)\n",
    "\n",
    "        button_action = QAction(\"Your button\", self)\n",
    "        button_action.setStatusTip(\"This is your button\")\n",
    "        button_action.triggered.connect(self.onMyToolBarButtonClick)\n",
    "        button_action.setCheckable(True)\n",
    "        toolbar.addAction(button_action)\n",
    "\n",
    "        self.setStatusBar(QStatusBar(self))\n",
    "\n",
    "    \n",
    "    def onMyToolBarButtonClick(self, s):\n",
    "        print(\"click\", s)\n",
    "\n",
    "    def onMyToolBarButtonClick(self, s):\n",
    "        print(\"click\", s)\n",
    "\n",
    "\n",
    "app = QApplication(sys.argv)\n",
    "w = MainWindow()\n",
    "w.show()\n",
    "app.exec()"
   ]
  },
  {
   "cell_type": "code",
   "execution_count": null,
   "id": "standard-florida",
   "metadata": {},
   "outputs": [],
   "source": []
  },
  {
   "cell_type": "code",
   "execution_count": null,
   "id": "interstate-witness",
   "metadata": {},
   "outputs": [],
   "source": [
    "#Añadimos una Toolbar\n",
    "\n",
    "import sys\n",
    "from PyQt5.QtWidgets import (\n",
    "    QMainWindow, QApplication,\n",
    "    QLabel, QToolBar, QAction, QStatusBar\n",
    ")\n",
    "from PyQt5.QtGui import QIcon\n",
    "from PyQt5.QtCore import Qt\n",
    "\n",
    "class MainWindow(QMainWindow):\n",
    "\n",
    "    def __init__(self):\n",
    "        super(MainWindow, self).__init__()\n",
    "\n",
    "        self.setWindowTitle(\"My Awesome App\")\n",
    "\n",
    "        label = QLabel(\"Hello!\")\n",
    "        label.setAlignment(Qt.AlignCenter)\n",
    "\n",
    "        self.setCentralWidget(label)\n",
    "\n",
    "        toolbar = QToolBar(\"My main toolbar\")\n",
    "        self.addToolBar(toolbar)\n",
    "\n",
    "        button_action = QAction(\"Your button\", self)\n",
    "        button_action.setStatusTip(\"This is your button\")\n",
    "        button_action.triggered.connect(self.onMyToolBarButtonClick)\n",
    "        button_action.setCheckable(True)\n",
    "        toolbar.addAction(button_action)\n",
    "\n",
    "        self.setStatusBar(QStatusBar(self))\n",
    "\n",
    "    \n",
    "    def onMyToolBarButtonClick(self, s):\n",
    "        print(\"click\", s)\n",
    "\n",
    "    def onMyToolBarButtonClick(self, s):\n",
    "        print(\"click\", s)\n",
    "\n",
    "\n",
    "app = QApplication(sys.argv)\n",
    "w = MainWindow()\n",
    "w.show()\n",
    "app.exec()"
   ]
  },
  {
   "attachments": {
    "786fb641-5407-43b4-bc86-d624416f1012.png": {
     "image/png": "[encoded data removed]"
    }
   },
   "cell_type": "markdown",
   "id": "affected-cloud",
   "metadata": {},
   "source": [
    "![image.png](attachment:786fb641-5407-43b4-bc86-d624416f1012.png)"
   ]
  },
  {
   "cell_type": "code",
   "execution_count": 1,
   "id": "neural-wales",
   "metadata": {},
   "outputs": [
    {
     "name": "stdout",
     "output_type": "stream",
     "text": [
      "click True\n"
     ]
    },
    {
     "data": {
      "text/plain": [
       "0"
      ]
     },
     "execution_count": 1,
     "metadata": {},
     "output_type": "execute_result"
    }
   ],
   "source": [
    "#Añadimos una Toolbar\n",
    "\n",
    "import sys\n",
    "from PyQt5.QtWidgets import (\n",
    "    QMainWindow, QApplication,\n",
    "    QLabel, QToolBar, QAction, QStatusBar\n",
    ")\n",
    "from PyQt5.QtGui import QIcon\n",
    "from PyQt5.QtCore import Qt, QSize\n",
    "\n",
    "class MainWindow(QMainWindow):\n",
    "\n",
    "    def __init__(self):\n",
    "        super(MainWindow, self).__init__()\n",
    "\n",
    "        self.setWindowTitle(\"My Awesome App\")\n",
    "\n",
    "        label = QLabel(\"Hello!\")\n",
    "        label.setAlignment(Qt.AlignCenter)\n",
    "\n",
    "        self.setCentralWidget(label)\n",
    "\n",
    "        toolbar = QToolBar(\"My main toolbar\")\n",
    "        toolbar.setIconSize(QSize(16,16))\n",
    "        self.addToolBar(toolbar)\n",
    "\n",
    "        #Más iconos en: https://p.yusukekamiyamane.com/icon/search/fugue/#keyword=bug\n",
    "        button_action = QAction(QIcon(\"./Icons/icons/bug.png\"), \"Your button\", self)\n",
    "        button_action.setStatusTip(\"This is your button\")\n",
    "        button_action.triggered.connect(self.onMyToolBarButtonClick)\n",
    "        button_action.setCheckable(True)\n",
    "        toolbar.addAction(button_action)\n",
    "\n",
    "        self.setStatusBar(QStatusBar(self))\n",
    "\n",
    "\n",
    "    def onMyToolBarButtonClick(self, s):\n",
    "        print(\"click\", s)\n",
    "\n",
    "app = QApplication(sys.argv)\n",
    "w = MainWindow()\n",
    "w.show()\n",
    "app.exec()"
   ]
  },
  {
   "attachments": {
    "14bcf496-8f5a-486e-a9ef-abf8185c7b79.png": {
     "image/png": "[encoded data removed]"
    }
   },
   "cell_type": "markdown",
   "id": "cheap-contrast",
   "metadata": {},
   "source": [
    "![image.png](attachment:14bcf496-8f5a-486e-a9ef-abf8185c7b79.png)"
   ]
  },
  {
   "cell_type": "code",
   "execution_count": null,
   "id": "conscious-immigration",
   "metadata": {},
   "outputs": [],
   "source": []
  }
 ],
 "metadata": {
  "kernelspec": {
   "display_name": "Python 3",
   "language": "python",
   "name": "python3"
  },
  "language_info": {
   "codemirror_mode": {
    "name": "ipython",
    "version": 3
   },
   "file_extension": ".py",
   "mimetype": "text/x-python",
   "name": "python",
   "nbconvert_exporter": "python",
   "pygments_lexer": "ipython3",
   "version": "3.9.2"
  }
 },
 "nbformat": 4,
 "nbformat_minor": 5
}
