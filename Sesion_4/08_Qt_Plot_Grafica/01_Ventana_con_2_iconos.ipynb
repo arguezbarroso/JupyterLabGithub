{
 "cells": [
  {
   "cell_type": "code",
   "execution_count": null,
   "id": "c329d727-ee14-48b9-8248-4ceba756c9d3",
   "metadata": {},
   "outputs": [],
   "source": [
    "import sys\n",
    "\n",
    "from PyQt5 import QtGui, QtWidgets\n",
    "\n",
    "class MainWindow(QtWidgets.QMainWindow):\n",
    "    def __init__(self):\n",
    "        super().__init__()\n",
    "\n",
    "        self.setWindowTitle(\"Hello World\")\n",
    "        #Añadimos un botón a mano. No usamos QtDesigner\n",
    "        self.button = QtWidgets.QPushButton(\"My button\")\n",
    "\n",
    "        #Añadimos un botón con un icono y asignamos la función de pulsar\n",
    "        #para quitar el icono\n",
    "        icon = QtGui.QIcon(\"animal-penguin.png\")\n",
    "        self.button.setIcon(icon)\n",
    "        self.button.clicked.connect(self.change_icon)\n",
    "\n",
    "        self.setCentralWidget(self.button)\n",
    "\n",
    "        self.show()\n",
    "\n",
    "    def change_icon(self):\n",
    "        icon = QtGui.QIcon(\"animal-monkey.png\")\n",
    "        self.button.setIcon(icon)\n",
    "\n",
    "\n",
    "app = QtWidgets.QApplication(sys.argv)\n",
    "w = MainWindow()\n",
    "app.exec_()"
   ]
  },
  {
   "attachments": {
    "2cf814d4-0c9f-4564-9479-9bb653cbc6b7.png": {
     "image/png": "[encoded data removed]"
    },
    "abb2c434-e05c-4d47-a3f5-2208112de31d.png": {
     "image/png": "[encoded data removed]"
    }
   },
   "cell_type": "markdown",
   "id": "27fb372a-0cf9-459a-ace3-0b61450f1e1b",
   "metadata": {},
   "source": [
    "![image.png](attachment:abb2c434-e05c-4d47-a3f5-2208112de31d.png)\n",
    "\n",
    "![image.png](attachment:2cf814d4-0c9f-4564-9479-9bb653cbc6b7.png)"
   ]
  },
  {
   "cell_type": "code",
   "execution_count": null,
   "id": "f1446fe0-0b0a-412b-a95b-149a0cbcdef0",
   "metadata": {},
   "outputs": [],
   "source": []
  }
 ],
 "metadata": {
  "kernelspec": {
   "display_name": "Python 3",
   "language": "python",
   "name": "python3"
  },
  "language_info": {
   "codemirror_mode": {
    "name": "ipython",
    "version": 3
   },
   "file_extension": ".py",
   "mimetype": "text/x-python",
   "name": "python",
   "nbconvert_exporter": "python",
   "pygments_lexer": "ipython3",
   "version": "3.9.2"
  }
 },
 "nbformat": 4,
 "nbformat_minor": 5
}
