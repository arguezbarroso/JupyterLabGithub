{
 "cells": [
  {
   "cell_type": "markdown",
   "id": "0d5cd3a2-ef36-4590-ac28-d315991450cb",
   "metadata": {},
   "source": [
    "# Código de Matlab que vamos a migrar\n",
    "\n",
    "```\n",
    "% Datos sonda temperatura voltcraft K201\r\n",
    "clear all;\r\n",
    "close all;\r\n",
    "clc;\r\n",
    "puerto='COM4';\r\n",
    "TS=instrfind('Type', 'serial', 'Port',puerto ); %\r\n",
    "% Create the serial port object if it does not exist\r\n",
    "% otherwise use the object that was found.\r\n",
    "if isempty(TS)\r\n",
    "    TS = serial(puerto);\r\n",
    "else\r\n",
    "    fclose(TS);\r\n",
    "    TS = TS(1);\r\n",
    "end\r\n",
    "set(TS,'Baudrate',9600); % se configura la velocidad a 9600 Baudios\r\n",
    "set(TS,'StopBits',1);    % se configura bit de parada a uno\r\n",
    "set(TS,'DataBits',8);    % se configura que el dato es de 8 bits, debe estar entre 5 y 8\r\n",
    "set(TS,'Parity','none'); % se configura sin paridad\r\n",
    "%set(TS,'Terminator','CR/LF');% “c” caracter con que finaliza el envío \r\n",
    "%set(TS,'OutputBufferSize',1); % ”n” es el número de bytes a enviar\r\n",
    "set(TS,'InputBufferSize' ,22); % ”n” es el número de bytes a recibir\r\n",
    "set(TS,'Timeout',0.1); % 5 segundos de tiempo de espera\r\n",
    "\r\n",
    "fopen(TS); % Abre el puerto serie\r\n",
    "%fwrite(TS,'T')\r\n",
    "%pause(1)\r\n",
    "%figure;hold on;\r\n",
    "for i=1:1\r\n",
    "    fwrite(TS,'D')\r\n",
    "    A=fread(TS)\r\n",
    "    T1=dec2hex(A(4));T2=dec2hex(A(5));\r\n",
    "    if length(T2)==1\r\n",
    "        T2=['0' T2]; % Da error porque busca la segunda cifra\r\n",
    "    end\r\n",
    "    T(i)=str2num([T1(2),T2(1),'.',T2(2)]);\r\n",
    "    t1=dec2hex(A(6));t2=dec2hex(A(7));t(i)=str2num(t1)*60+str2num(t2);\r\n",
    "    fprintf('t = %4.0f s  ->',t(i));\r\n",
    "    fprintf('T = %2.1f\\n',T(i));\r\n",
    "    pause(1)\r\n",
    "    plot(t,T,'+');\r\n",
    "end\r\n",
    "fwrite(TS,'T');\r\n",
    "%fread(TS,'A')\r\n",
    "%fwrite(TS,'D')\r\n",
    "%fread(TS)\r\n",
    "\r\n",
    "fclose(TS); %``` Cierra el puerto serie\r\n",
    "delete(TS);\r\n",
    "clear TS;\r\n"
   ]
  },
  {
   "cell_type": "code",
   "execution_count": null,
   "id": "e6a52375-ac32-4faf-ba8f-d76b9e7b7a4c",
   "metadata": {},
   "outputs": [],
   "source": []
  }
 ],
 "metadata": {
  "kernelspec": {
   "display_name": "Python 3",
   "language": "python",
   "name": "python3"
  },
  "language_info": {
   "codemirror_mode": {
    "name": "ipython",
    "version": 3
   },
   "file_extension": ".py",
   "mimetype": "text/x-python",
   "name": "python",
   "nbconvert_exporter": "python",
   "pygments_lexer": "ipython3",
   "version": "3.9.2"
  }
 },
 "nbformat": 4,
 "nbformat_minor": 5
}
